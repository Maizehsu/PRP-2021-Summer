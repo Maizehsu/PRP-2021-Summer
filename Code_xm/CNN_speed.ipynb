{
 "cells": [
  {
   "cell_type": "code",
   "execution_count": 1,
   "metadata": {},
   "outputs": [],
   "source": [
    "import pandas as pd  \n",
    "# 指向Intergated-DATASET-D.csv的地址（预处理文件）\n",
    "DATASET_B_PATH_WIN = 'D:/Working/PRP-2021/Data/Processed_Data/feature_analysis/Intergated-DATASET-D.csv'\n",
    "# 读取数据文件 \n",
    "data = pd.read_csv(DATASET_B_PATH_WIN).drop(['Unnamed: 0'], axis=1)"
   ]
  },
  {
   "cell_type": "code",
   "execution_count": 2,
   "metadata": {},
   "outputs": [
    {
     "name": "stdout",
     "output_type": "stream",
     "text": [
      "(-139, -110, 0, 28)\n"
     ]
    }
   ],
   "source": [
    "# 设置需要处理的空间网格区间的边界\n",
    "# 范围不能太大，会超内存而无法运行\n",
    "ROW_LIM_DOWN = int(data.row_id.min())\n",
    "ROW_LIM_UP = int(data.row_id.max() - 110)\n",
    "COL_LIM_DOWN = int(data.col_id.min())\n",
    "COL_LIM_UP = int(data.col_id.max() - 110)\n",
    "print((ROW_LIM_DOWN, ROW_LIM_UP, COL_LIM_DOWN, COL_LIM_UP))"
   ]
  },
  {
   "cell_type": "code",
   "execution_count": 3,
   "metadata": {},
   "outputs": [],
   "source": [
    "# 选定待处理的空间网格区域\n",
    "data = data.loc[(data.row_id >= ROW_LIM_DOWN)&(data.row_id <= ROW_LIM_UP) &(data.col_id >= COL_LIM_DOWN) & (data.col_id <= COL_LIM_UP)]\n",
    "# 将所有网格id转换成int型\n",
    "for c in ['row_id', 'col_id', 'time_id']:  \n",
    "    data[c] = data[c].astype(int)\n",
    "# 将date和id处理成正整数，然后排序\n",
    "data['date'] -= data['date'].min()\n",
    "data['row_id'] -= data['row_id'].min()\n",
    "data['col_id'] -= data['col_id'].min()\n",
    "data['time_id'] -= data['time_id'].min()\n",
    "data = data.sort_values(['date', 'row_id', 'col_id', 'time_id']).reset_index(drop=True)"
   ]
  },
  {
   "cell_type": "code",
   "execution_count": 4,
   "metadata": {},
   "outputs": [],
   "source": [
    "# 当前的data中存在着NaN值和缺失的网格，需要将NaN改成0，以及将缺失网格补全，由下面这个函数实现\n",
    "def grid_recovery(df_, cols=[], lens=[]):\n",
    "    df = df_.copy()\n",
    "    lcols = len(cols)\n",
    "    llens = len(lens)\n",
    "    \n",
    "    if lcols != llens: # 确保输入的网格名称和网格长度信息的长度一致\n",
    "        raise ValueError(f'Lengths of cols ({lcols}) and lens ({llens}) mismatch.')\n",
    "    \n",
    "    recovery_df = None\n",
    "    for c, l in zip(cols, lens):\n",
    "        tmp_df = pd.DataFrame({c:range(l)})\n",
    "        tmp_df['flag'] = True\n",
    "        if recovery_df is None:\n",
    "            recovery_df = tmp_df.copy()\n",
    "        else:\n",
    "            recovery_df = recovery_df.merge(tmp_df, 'left', 'flag')\n",
    "    \n",
    "    del recovery_df['flag']\n",
    "    \n",
    "    df = pd.merge(recovery_df, df, on=['date','row_id', 'col_id', 'time_id'])\n",
    "    df = df.fillna(0)\n",
    "    return df\n",
    "    \n",
    "NROWS = ROW_LIM_UP - ROW_LIM_DOWN + 1 # 空间网格行数  \n",
    "NCOLS = COL_LIM_UP - COL_LIM_DOWN + 1 # 空间网格列数  \n",
    "NTIME = data.time_id.max() - data.time_id.min() + 1 # 时间网格数  \n",
    "NDATE = 30 # 日期网格数\n",
    "data = grid_recovery(data, ['date', 'row_id', 'col_id', 'time_id'], [NDATE, NROWS, NCOLS, NTIME])  \n",
    "for c in ['volume', 'stopNum']:  \n",
    "    data[c] = data[c].astype(int) # 调整数据类型 "
   ]
  },
  {
   "cell_type": "code",
   "execution_count": 5,
   "metadata": {},
   "outputs": [
    {
     "data": {
      "text/html": [
       "<div>\n",
       "<style scoped>\n",
       "    .dataframe tbody tr th:only-of-type {\n",
       "        vertical-align: middle;\n",
       "    }\n",
       "\n",
       "    .dataframe tbody tr th {\n",
       "        vertical-align: top;\n",
       "    }\n",
       "\n",
       "    .dataframe thead th {\n",
       "        text-align: right;\n",
       "    }\n",
       "</style>\n",
       "<table border=\"1\" class=\"dataframe\">\n",
       "  <thead>\n",
       "    <tr style=\"text-align: right;\">\n",
       "      <th></th>\n",
       "      <th>date</th>\n",
       "      <th>row_id</th>\n",
       "      <th>col_id</th>\n",
       "      <th>time_id</th>\n",
       "      <th>aveSpeed</th>\n",
       "      <th>gridAcc</th>\n",
       "      <th>volume</th>\n",
       "      <th>speedStd</th>\n",
       "      <th>stopNum</th>\n",
       "    </tr>\n",
       "  </thead>\n",
       "  <tbody>\n",
       "    <tr>\n",
       "      <th>0</th>\n",
       "      <td>0</td>\n",
       "      <td>0</td>\n",
       "      <td>5</td>\n",
       "      <td>9</td>\n",
       "      <td>15.571961</td>\n",
       "      <td>-2.323410</td>\n",
       "      <td>1</td>\n",
       "      <td>0.000000</td>\n",
       "      <td>0</td>\n",
       "    </tr>\n",
       "    <tr>\n",
       "      <th>1</th>\n",
       "      <td>0</td>\n",
       "      <td>0</td>\n",
       "      <td>5</td>\n",
       "      <td>12</td>\n",
       "      <td>10.679653</td>\n",
       "      <td>-0.098228</td>\n",
       "      <td>1</td>\n",
       "      <td>0.000000</td>\n",
       "      <td>0</td>\n",
       "    </tr>\n",
       "    <tr>\n",
       "      <th>2</th>\n",
       "      <td>0</td>\n",
       "      <td>0</td>\n",
       "      <td>5</td>\n",
       "      <td>15</td>\n",
       "      <td>12.348424</td>\n",
       "      <td>0.018499</td>\n",
       "      <td>2</td>\n",
       "      <td>1.345171</td>\n",
       "      <td>0</td>\n",
       "    </tr>\n",
       "    <tr>\n",
       "      <th>3</th>\n",
       "      <td>0</td>\n",
       "      <td>0</td>\n",
       "      <td>5</td>\n",
       "      <td>18</td>\n",
       "      <td>9.483641</td>\n",
       "      <td>0.109564</td>\n",
       "      <td>1</td>\n",
       "      <td>0.000000</td>\n",
       "      <td>0</td>\n",
       "    </tr>\n",
       "    <tr>\n",
       "      <th>4</th>\n",
       "      <td>0</td>\n",
       "      <td>0</td>\n",
       "      <td>5</td>\n",
       "      <td>24</td>\n",
       "      <td>12.754410</td>\n",
       "      <td>-0.000014</td>\n",
       "      <td>1</td>\n",
       "      <td>0.000000</td>\n",
       "      <td>0</td>\n",
       "    </tr>\n",
       "    <tr>\n",
       "      <th>...</th>\n",
       "      <td>...</td>\n",
       "      <td>...</td>\n",
       "      <td>...</td>\n",
       "      <td>...</td>\n",
       "      <td>...</td>\n",
       "      <td>...</td>\n",
       "      <td>...</td>\n",
       "      <td>...</td>\n",
       "      <td>...</td>\n",
       "    </tr>\n",
       "    <tr>\n",
       "      <th>1712141</th>\n",
       "      <td>29</td>\n",
       "      <td>29</td>\n",
       "      <td>28</td>\n",
       "      <td>265</td>\n",
       "      <td>12.844945</td>\n",
       "      <td>-0.097047</td>\n",
       "      <td>23</td>\n",
       "      <td>4.335740</td>\n",
       "      <td>0</td>\n",
       "    </tr>\n",
       "    <tr>\n",
       "      <th>1712142</th>\n",
       "      <td>29</td>\n",
       "      <td>29</td>\n",
       "      <td>28</td>\n",
       "      <td>266</td>\n",
       "      <td>13.059798</td>\n",
       "      <td>0.319253</td>\n",
       "      <td>15</td>\n",
       "      <td>3.569742</td>\n",
       "      <td>0</td>\n",
       "    </tr>\n",
       "    <tr>\n",
       "      <th>1712143</th>\n",
       "      <td>29</td>\n",
       "      <td>29</td>\n",
       "      <td>28</td>\n",
       "      <td>267</td>\n",
       "      <td>14.422607</td>\n",
       "      <td>-0.198924</td>\n",
       "      <td>8</td>\n",
       "      <td>2.596043</td>\n",
       "      <td>0</td>\n",
       "    </tr>\n",
       "    <tr>\n",
       "      <th>1712144</th>\n",
       "      <td>29</td>\n",
       "      <td>29</td>\n",
       "      <td>28</td>\n",
       "      <td>268</td>\n",
       "      <td>14.361599</td>\n",
       "      <td>-0.245811</td>\n",
       "      <td>10</td>\n",
       "      <td>2.369202</td>\n",
       "      <td>0</td>\n",
       "    </tr>\n",
       "    <tr>\n",
       "      <th>1712145</th>\n",
       "      <td>29</td>\n",
       "      <td>29</td>\n",
       "      <td>28</td>\n",
       "      <td>269</td>\n",
       "      <td>10.060815</td>\n",
       "      <td>-0.123951</td>\n",
       "      <td>11</td>\n",
       "      <td>4.726161</td>\n",
       "      <td>0</td>\n",
       "    </tr>\n",
       "  </tbody>\n",
       "</table>\n",
       "<p>1712146 rows × 9 columns</p>\n",
       "</div>"
      ],
      "text/plain": [
       "         date  row_id  col_id  time_id   aveSpeed   gridAcc  volume  speedStd  \\\n",
       "0           0       0       5        9  15.571961 -2.323410       1  0.000000   \n",
       "1           0       0       5       12  10.679653 -0.098228       1  0.000000   \n",
       "2           0       0       5       15  12.348424  0.018499       2  1.345171   \n",
       "3           0       0       5       18   9.483641  0.109564       1  0.000000   \n",
       "4           0       0       5       24  12.754410 -0.000014       1  0.000000   \n",
       "...       ...     ...     ...      ...        ...       ...     ...       ...   \n",
       "1712141    29      29      28      265  12.844945 -0.097047      23  4.335740   \n",
       "1712142    29      29      28      266  13.059798  0.319253      15  3.569742   \n",
       "1712143    29      29      28      267  14.422607 -0.198924       8  2.596043   \n",
       "1712144    29      29      28      268  14.361599 -0.245811      10  2.369202   \n",
       "1712145    29      29      28      269  10.060815 -0.123951      11  4.726161   \n",
       "\n",
       "         stopNum  \n",
       "0              0  \n",
       "1              0  \n",
       "2              0  \n",
       "3              0  \n",
       "4              0  \n",
       "...          ...  \n",
       "1712141        0  \n",
       "1712142        0  \n",
       "1712143        0  \n",
       "1712144        0  \n",
       "1712145        0  \n",
       "\n",
       "[1712146 rows x 9 columns]"
      ]
     },
     "execution_count": 5,
     "metadata": {},
     "output_type": "execute_result"
    }
   ],
   "source": [
    "data"
   ]
  },
  {
   "cell_type": "code",
   "execution_count": 6,
   "metadata": {},
   "outputs": [],
   "source": [
    "# 当前网格数太多了，可以进一步合并\n",
    "data['hourid'] = data['time_id'] // 6 # 合并时间网格  \n",
    "data['new_rowid'] = data.row_id // 2 # 合并空间网格  \n",
    "data['new_colid'] = data.col_id // 2  \n",
    "speed = data.groupby( # 计算合并网格后各网格的流量  \n",
    "    ['date', 'new_rowid', 'new_colid', 'hourid']).aveSpeed.mean().reset_index()  \n",
    "speed.columns = ['date', 'row_id', 'col_id', 'hourid', 'gridSpeed']  "
   ]
  },
  {
   "cell_type": "code",
   "execution_count": 7,
   "metadata": {},
   "outputs": [
    {
     "data": {
      "text/html": [
       "<div>\n",
       "<style scoped>\n",
       "    .dataframe tbody tr th:only-of-type {\n",
       "        vertical-align: middle;\n",
       "    }\n",
       "\n",
       "    .dataframe tbody tr th {\n",
       "        vertical-align: top;\n",
       "    }\n",
       "\n",
       "    .dataframe thead th {\n",
       "        text-align: right;\n",
       "    }\n",
       "</style>\n",
       "<table border=\"1\" class=\"dataframe\">\n",
       "  <thead>\n",
       "    <tr style=\"text-align: right;\">\n",
       "      <th></th>\n",
       "      <th>date</th>\n",
       "      <th>row_id</th>\n",
       "      <th>col_id</th>\n",
       "      <th>hourid</th>\n",
       "      <th>gridSpeed</th>\n",
       "    </tr>\n",
       "  </thead>\n",
       "  <tbody>\n",
       "    <tr>\n",
       "      <th>0</th>\n",
       "      <td>0</td>\n",
       "      <td>0</td>\n",
       "      <td>1</td>\n",
       "      <td>22</td>\n",
       "      <td>9.487764</td>\n",
       "    </tr>\n",
       "    <tr>\n",
       "      <th>1</th>\n",
       "      <td>0</td>\n",
       "      <td>0</td>\n",
       "      <td>1</td>\n",
       "      <td>28</td>\n",
       "      <td>7.454806</td>\n",
       "    </tr>\n",
       "    <tr>\n",
       "      <th>2</th>\n",
       "      <td>0</td>\n",
       "      <td>0</td>\n",
       "      <td>1</td>\n",
       "      <td>30</td>\n",
       "      <td>4.043013</td>\n",
       "    </tr>\n",
       "    <tr>\n",
       "      <th>3</th>\n",
       "      <td>0</td>\n",
       "      <td>0</td>\n",
       "      <td>1</td>\n",
       "      <td>40</td>\n",
       "      <td>3.455001</td>\n",
       "    </tr>\n",
       "    <tr>\n",
       "      <th>4</th>\n",
       "      <td>0</td>\n",
       "      <td>0</td>\n",
       "      <td>1</td>\n",
       "      <td>41</td>\n",
       "      <td>9.487989</td>\n",
       "    </tr>\n",
       "    <tr>\n",
       "      <th>...</th>\n",
       "      <td>...</td>\n",
       "      <td>...</td>\n",
       "      <td>...</td>\n",
       "      <td>...</td>\n",
       "      <td>...</td>\n",
       "    </tr>\n",
       "    <tr>\n",
       "      <th>186568</th>\n",
       "      <td>29</td>\n",
       "      <td>14</td>\n",
       "      <td>14</td>\n",
       "      <td>40</td>\n",
       "      <td>13.778830</td>\n",
       "    </tr>\n",
       "    <tr>\n",
       "      <th>186569</th>\n",
       "      <td>29</td>\n",
       "      <td>14</td>\n",
       "      <td>14</td>\n",
       "      <td>41</td>\n",
       "      <td>14.187796</td>\n",
       "    </tr>\n",
       "    <tr>\n",
       "      <th>186570</th>\n",
       "      <td>29</td>\n",
       "      <td>14</td>\n",
       "      <td>14</td>\n",
       "      <td>42</td>\n",
       "      <td>13.882866</td>\n",
       "    </tr>\n",
       "    <tr>\n",
       "      <th>186571</th>\n",
       "      <td>29</td>\n",
       "      <td>14</td>\n",
       "      <td>14</td>\n",
       "      <td>43</td>\n",
       "      <td>13.586276</td>\n",
       "    </tr>\n",
       "    <tr>\n",
       "      <th>186572</th>\n",
       "      <td>29</td>\n",
       "      <td>14</td>\n",
       "      <td>14</td>\n",
       "      <td>44</td>\n",
       "      <td>13.690626</td>\n",
       "    </tr>\n",
       "  </tbody>\n",
       "</table>\n",
       "<p>186573 rows × 5 columns</p>\n",
       "</div>"
      ],
      "text/plain": [
       "        date  row_id  col_id  hourid  gridSpeed\n",
       "0          0       0       1      22   9.487764\n",
       "1          0       0       1      28   7.454806\n",
       "2          0       0       1      30   4.043013\n",
       "3          0       0       1      40   3.455001\n",
       "4          0       0       1      41   9.487989\n",
       "...      ...     ...     ...     ...        ...\n",
       "186568    29      14      14      40  13.778830\n",
       "186569    29      14      14      41  14.187796\n",
       "186570    29      14      14      42  13.882866\n",
       "186571    29      14      14      43  13.586276\n",
       "186572    29      14      14      44  13.690626\n",
       "\n",
       "[186573 rows x 5 columns]"
      ]
     },
     "execution_count": 7,
     "metadata": {},
     "output_type": "execute_result"
    }
   ],
   "source": [
    "speed"
   ]
  },
  {
   "cell_type": "code",
   "execution_count": 8,
   "metadata": {},
   "outputs": [
    {
     "data": {
      "text/plain": [
       "45"
      ]
     },
     "execution_count": 8,
     "metadata": {},
     "output_type": "execute_result"
    }
   ],
   "source": [
    "TIME_UNIT = data.groupby('hourid').size().count() # 每个date里所包含的hourid的数量\n",
    "TIME_UNIT"
   ]
  },
  {
   "cell_type": "code",
   "execution_count": 9,
   "metadata": {},
   "outputs": [],
   "source": [
    "from math import ceil"
   ]
  },
  {
   "cell_type": "code",
   "execution_count": 10,
   "metadata": {},
   "outputs": [],
   "source": [
    "speed_pivot = speed.pivot_table(  \n",
    "    index=['date', 'hourid', 'row_id'],  \n",
    "    columns='col_id',  \n",
    "    values='gridSpeed').fillna(0).reset_index() # 网格转换  \n",
    "speed_pivot['timeseq'] = speed_pivot['date'] * TIME_UNIT + speed_pivot['hourid'] # 时间序号  \n",
    "speed_pivot_np = speed_pivot[[c for c in range(ceil(NCOLS/2))]].values # 提取速度数值"
   ]
  },
  {
   "cell_type": "code",
   "execution_count": 11,
   "metadata": {},
   "outputs": [
    {
     "data": {
      "text/html": [
       "<div>\n",
       "<style scoped>\n",
       "    .dataframe tbody tr th:only-of-type {\n",
       "        vertical-align: middle;\n",
       "    }\n",
       "\n",
       "    .dataframe tbody tr th {\n",
       "        vertical-align: top;\n",
       "    }\n",
       "\n",
       "    .dataframe thead th {\n",
       "        text-align: right;\n",
       "    }\n",
       "</style>\n",
       "<table border=\"1\" class=\"dataframe\">\n",
       "  <thead>\n",
       "    <tr style=\"text-align: right;\">\n",
       "      <th>col_id</th>\n",
       "      <th>date</th>\n",
       "      <th>hourid</th>\n",
       "      <th>row_id</th>\n",
       "      <th>0</th>\n",
       "      <th>1</th>\n",
       "      <th>2</th>\n",
       "      <th>3</th>\n",
       "      <th>4</th>\n",
       "      <th>5</th>\n",
       "      <th>6</th>\n",
       "      <th>7</th>\n",
       "      <th>8</th>\n",
       "      <th>9</th>\n",
       "      <th>10</th>\n",
       "      <th>11</th>\n",
       "      <th>12</th>\n",
       "      <th>13</th>\n",
       "      <th>14</th>\n",
       "      <th>timeseq</th>\n",
       "    </tr>\n",
       "  </thead>\n",
       "  <tbody>\n",
       "    <tr>\n",
       "      <th>0</th>\n",
       "      <td>0</td>\n",
       "      <td>0</td>\n",
       "      <td>0</td>\n",
       "      <td>0.000000</td>\n",
       "      <td>0.000000</td>\n",
       "      <td>0.000000</td>\n",
       "      <td>18.864123</td>\n",
       "      <td>15.018503</td>\n",
       "      <td>15.510752</td>\n",
       "      <td>15.506765</td>\n",
       "      <td>0.000000</td>\n",
       "      <td>11.289351</td>\n",
       "      <td>0.000000</td>\n",
       "      <td>0.000000</td>\n",
       "      <td>0.000000</td>\n",
       "      <td>0.000000</td>\n",
       "      <td>0.000000</td>\n",
       "      <td>12.254730</td>\n",
       "      <td>0</td>\n",
       "    </tr>\n",
       "    <tr>\n",
       "      <th>1</th>\n",
       "      <td>0</td>\n",
       "      <td>0</td>\n",
       "      <td>1</td>\n",
       "      <td>0.000000</td>\n",
       "      <td>12.948501</td>\n",
       "      <td>16.064613</td>\n",
       "      <td>16.405718</td>\n",
       "      <td>17.971415</td>\n",
       "      <td>0.000000</td>\n",
       "      <td>0.000000</td>\n",
       "      <td>0.000000</td>\n",
       "      <td>12.933367</td>\n",
       "      <td>15.658056</td>\n",
       "      <td>0.000000</td>\n",
       "      <td>0.000000</td>\n",
       "      <td>0.000000</td>\n",
       "      <td>0.000000</td>\n",
       "      <td>0.000000</td>\n",
       "      <td>0</td>\n",
       "    </tr>\n",
       "    <tr>\n",
       "      <th>2</th>\n",
       "      <td>0</td>\n",
       "      <td>0</td>\n",
       "      <td>2</td>\n",
       "      <td>7.645916</td>\n",
       "      <td>9.487548</td>\n",
       "      <td>0.000000</td>\n",
       "      <td>15.741683</td>\n",
       "      <td>0.000000</td>\n",
       "      <td>0.000000</td>\n",
       "      <td>0.000000</td>\n",
       "      <td>0.000000</td>\n",
       "      <td>0.000000</td>\n",
       "      <td>17.039919</td>\n",
       "      <td>0.000000</td>\n",
       "      <td>0.000000</td>\n",
       "      <td>0.000000</td>\n",
       "      <td>0.000000</td>\n",
       "      <td>0.000000</td>\n",
       "      <td>0</td>\n",
       "    </tr>\n",
       "    <tr>\n",
       "      <th>3</th>\n",
       "      <td>0</td>\n",
       "      <td>0</td>\n",
       "      <td>3</td>\n",
       "      <td>0.000000</td>\n",
       "      <td>0.000000</td>\n",
       "      <td>17.877262</td>\n",
       "      <td>14.660245</td>\n",
       "      <td>0.000000</td>\n",
       "      <td>0.000000</td>\n",
       "      <td>0.000000</td>\n",
       "      <td>0.000000</td>\n",
       "      <td>0.000000</td>\n",
       "      <td>16.553371</td>\n",
       "      <td>17.000271</td>\n",
       "      <td>0.000000</td>\n",
       "      <td>0.000000</td>\n",
       "      <td>0.000000</td>\n",
       "      <td>3.455001</td>\n",
       "      <td>0</td>\n",
       "    </tr>\n",
       "    <tr>\n",
       "      <th>4</th>\n",
       "      <td>0</td>\n",
       "      <td>0</td>\n",
       "      <td>4</td>\n",
       "      <td>0.000000</td>\n",
       "      <td>4.611076</td>\n",
       "      <td>13.133688</td>\n",
       "      <td>0.000000</td>\n",
       "      <td>0.000000</td>\n",
       "      <td>0.000000</td>\n",
       "      <td>0.000000</td>\n",
       "      <td>0.000000</td>\n",
       "      <td>0.000000</td>\n",
       "      <td>0.000000</td>\n",
       "      <td>16.895948</td>\n",
       "      <td>0.000000</td>\n",
       "      <td>0.000000</td>\n",
       "      <td>15.924881</td>\n",
       "      <td>11.671914</td>\n",
       "      <td>0</td>\n",
       "    </tr>\n",
       "    <tr>\n",
       "      <th>...</th>\n",
       "      <td>...</td>\n",
       "      <td>...</td>\n",
       "      <td>...</td>\n",
       "      <td>...</td>\n",
       "      <td>...</td>\n",
       "      <td>...</td>\n",
       "      <td>...</td>\n",
       "      <td>...</td>\n",
       "      <td>...</td>\n",
       "      <td>...</td>\n",
       "      <td>...</td>\n",
       "      <td>...</td>\n",
       "      <td>...</td>\n",
       "      <td>...</td>\n",
       "      <td>...</td>\n",
       "      <td>...</td>\n",
       "      <td>...</td>\n",
       "      <td>...</td>\n",
       "      <td>...</td>\n",
       "    </tr>\n",
       "    <tr>\n",
       "      <th>20245</th>\n",
       "      <td>29</td>\n",
       "      <td>44</td>\n",
       "      <td>10</td>\n",
       "      <td>0.000000</td>\n",
       "      <td>12.680749</td>\n",
       "      <td>9.057302</td>\n",
       "      <td>6.889958</td>\n",
       "      <td>9.019047</td>\n",
       "      <td>0.000000</td>\n",
       "      <td>0.000000</td>\n",
       "      <td>4.073565</td>\n",
       "      <td>0.000000</td>\n",
       "      <td>4.525877</td>\n",
       "      <td>5.413401</td>\n",
       "      <td>9.462348</td>\n",
       "      <td>8.790477</td>\n",
       "      <td>10.133217</td>\n",
       "      <td>7.773832</td>\n",
       "      <td>1349</td>\n",
       "    </tr>\n",
       "    <tr>\n",
       "      <th>20246</th>\n",
       "      <td>29</td>\n",
       "      <td>44</td>\n",
       "      <td>11</td>\n",
       "      <td>12.858924</td>\n",
       "      <td>14.034164</td>\n",
       "      <td>0.000000</td>\n",
       "      <td>9.561180</td>\n",
       "      <td>7.681618</td>\n",
       "      <td>9.884326</td>\n",
       "      <td>11.364833</td>\n",
       "      <td>5.138832</td>\n",
       "      <td>7.117813</td>\n",
       "      <td>6.033746</td>\n",
       "      <td>7.209406</td>\n",
       "      <td>7.955900</td>\n",
       "      <td>10.051838</td>\n",
       "      <td>0.000000</td>\n",
       "      <td>7.869913</td>\n",
       "      <td>1349</td>\n",
       "    </tr>\n",
       "    <tr>\n",
       "      <th>20247</th>\n",
       "      <td>29</td>\n",
       "      <td>44</td>\n",
       "      <td>12</td>\n",
       "      <td>21.526924</td>\n",
       "      <td>18.634956</td>\n",
       "      <td>0.000000</td>\n",
       "      <td>7.919506</td>\n",
       "      <td>6.173840</td>\n",
       "      <td>9.776676</td>\n",
       "      <td>3.550290</td>\n",
       "      <td>4.677656</td>\n",
       "      <td>8.672387</td>\n",
       "      <td>10.732617</td>\n",
       "      <td>10.067527</td>\n",
       "      <td>11.264940</td>\n",
       "      <td>11.857768</td>\n",
       "      <td>7.087199</td>\n",
       "      <td>10.094117</td>\n",
       "      <td>1349</td>\n",
       "    </tr>\n",
       "    <tr>\n",
       "      <th>20248</th>\n",
       "      <td>29</td>\n",
       "      <td>44</td>\n",
       "      <td>13</td>\n",
       "      <td>0.000000</td>\n",
       "      <td>9.702068</td>\n",
       "      <td>9.821266</td>\n",
       "      <td>11.350801</td>\n",
       "      <td>10.567032</td>\n",
       "      <td>0.000000</td>\n",
       "      <td>8.380742</td>\n",
       "      <td>5.525176</td>\n",
       "      <td>6.237528</td>\n",
       "      <td>9.106948</td>\n",
       "      <td>9.474874</td>\n",
       "      <td>10.254112</td>\n",
       "      <td>11.349605</td>\n",
       "      <td>12.118581</td>\n",
       "      <td>11.295210</td>\n",
       "      <td>1349</td>\n",
       "    </tr>\n",
       "    <tr>\n",
       "      <th>20249</th>\n",
       "      <td>29</td>\n",
       "      <td>44</td>\n",
       "      <td>14</td>\n",
       "      <td>6.990101</td>\n",
       "      <td>7.831957</td>\n",
       "      <td>12.177720</td>\n",
       "      <td>0.000000</td>\n",
       "      <td>5.517530</td>\n",
       "      <td>7.205249</td>\n",
       "      <td>8.842785</td>\n",
       "      <td>9.536227</td>\n",
       "      <td>8.226443</td>\n",
       "      <td>7.759221</td>\n",
       "      <td>7.419915</td>\n",
       "      <td>7.782929</td>\n",
       "      <td>12.685441</td>\n",
       "      <td>6.380755</td>\n",
       "      <td>13.690626</td>\n",
       "      <td>1349</td>\n",
       "    </tr>\n",
       "  </tbody>\n",
       "</table>\n",
       "<p>20250 rows × 19 columns</p>\n",
       "</div>"
      ],
      "text/plain": [
       "col_id  date  hourid  row_id          0          1          2          3  \\\n",
       "0          0       0       0   0.000000   0.000000   0.000000  18.864123   \n",
       "1          0       0       1   0.000000  12.948501  16.064613  16.405718   \n",
       "2          0       0       2   7.645916   9.487548   0.000000  15.741683   \n",
       "3          0       0       3   0.000000   0.000000  17.877262  14.660245   \n",
       "4          0       0       4   0.000000   4.611076  13.133688   0.000000   \n",
       "...      ...     ...     ...        ...        ...        ...        ...   \n",
       "20245     29      44      10   0.000000  12.680749   9.057302   6.889958   \n",
       "20246     29      44      11  12.858924  14.034164   0.000000   9.561180   \n",
       "20247     29      44      12  21.526924  18.634956   0.000000   7.919506   \n",
       "20248     29      44      13   0.000000   9.702068   9.821266  11.350801   \n",
       "20249     29      44      14   6.990101   7.831957  12.177720   0.000000   \n",
       "\n",
       "col_id          4          5          6         7          8          9  \\\n",
       "0       15.018503  15.510752  15.506765  0.000000  11.289351   0.000000   \n",
       "1       17.971415   0.000000   0.000000  0.000000  12.933367  15.658056   \n",
       "2        0.000000   0.000000   0.000000  0.000000   0.000000  17.039919   \n",
       "3        0.000000   0.000000   0.000000  0.000000   0.000000  16.553371   \n",
       "4        0.000000   0.000000   0.000000  0.000000   0.000000   0.000000   \n",
       "...           ...        ...        ...       ...        ...        ...   \n",
       "20245    9.019047   0.000000   0.000000  4.073565   0.000000   4.525877   \n",
       "20246    7.681618   9.884326  11.364833  5.138832   7.117813   6.033746   \n",
       "20247    6.173840   9.776676   3.550290  4.677656   8.672387  10.732617   \n",
       "20248   10.567032   0.000000   8.380742  5.525176   6.237528   9.106948   \n",
       "20249    5.517530   7.205249   8.842785  9.536227   8.226443   7.759221   \n",
       "\n",
       "col_id         10         11         12         13         14  timeseq  \n",
       "0        0.000000   0.000000   0.000000   0.000000  12.254730        0  \n",
       "1        0.000000   0.000000   0.000000   0.000000   0.000000        0  \n",
       "2        0.000000   0.000000   0.000000   0.000000   0.000000        0  \n",
       "3       17.000271   0.000000   0.000000   0.000000   3.455001        0  \n",
       "4       16.895948   0.000000   0.000000  15.924881  11.671914        0  \n",
       "...           ...        ...        ...        ...        ...      ...  \n",
       "20245    5.413401   9.462348   8.790477  10.133217   7.773832     1349  \n",
       "20246    7.209406   7.955900  10.051838   0.000000   7.869913     1349  \n",
       "20247   10.067527  11.264940  11.857768   7.087199  10.094117     1349  \n",
       "20248    9.474874  10.254112  11.349605  12.118581  11.295210     1349  \n",
       "20249    7.419915   7.782929  12.685441   6.380755  13.690626     1349  \n",
       "\n",
       "[20250 rows x 19 columns]"
      ]
     },
     "execution_count": 11,
     "metadata": {},
     "output_type": "execute_result"
    }
   ],
   "source": [
    "speed_pivot"
   ]
  },
  {
   "cell_type": "code",
   "execution_count": 12,
   "metadata": {},
   "outputs": [
    {
     "data": {
      "text/plain": [
       "(20250, 15)"
      ]
     },
     "execution_count": 12,
     "metadata": {},
     "output_type": "execute_result"
    }
   ],
   "source": [
    "import numpy as np\n",
    "np.shape(speed_pivot_np)"
   ]
  },
  {
   "cell_type": "code",
   "execution_count": 13,
   "metadata": {},
   "outputs": [
    {
     "name": "stdout",
     "output_type": "stream",
     "text": [
      "(15, 15)\n"
     ]
    }
   ],
   "source": [
    "print((ceil(NROWS/2),ceil(NCOLS/2)))"
   ]
  },
  {
   "cell_type": "code",
   "execution_count": 14,
   "metadata": {},
   "outputs": [],
   "source": [
    "# 数据增强\n",
    "win_s = 10\n",
    "win_t = 3\n",
    "def gen_movie(df, nrows=ceil(NROWS/2), ncols=ceil(NCOLS/2), ntime=30*TIME_UNIT, win_s=win_s, win_t=win_t):  #注意：win_s必须得小于nrows,ncols!!!\n",
    "    n_i = nrows - win_s + 1   \n",
    "    n_j = ncols - win_s + 1   \n",
    "    piece = []  \n",
    "    for t in range(3*TIME_UNIT - 1, ntime):   #第一天末尾的hourid索引实际上是TIME_UNIT - 1，而不是TIME_UNIT\n",
    "        for i in range(n_i):  \n",
    "            for j in range(n_j):  \n",
    "                # 周期特征  \n",
    "                prd_piece = df[t-(3*TIME_UNIT - 1) : t - (TIME_UNIT - 1) + 1: TIME_UNIT, i:i+win_s, j:j+win_s]  \n",
    "                # 邻近特征  \n",
    "                nbr_piece = df[t-win_t:t+1, i:i+win_s, j:j+win_s]  \n",
    "                piece.append(np.vstack([prd_piece, nbr_piece]))  \n",
    "    return np.stack(piece)  \n",
    "\n",
    "movie = gen_movie(np.asarray(speed_pivot_np.reshape(30*TIME_UNIT, ceil(NROWS/2), ceil(NCOLS/2)), order='C'))  "
   ]
  },
  {
   "cell_type": "code",
   "execution_count": 15,
   "metadata": {},
   "outputs": [
    {
     "data": {
      "text/plain": [
       "(1350, 15, 15)"
      ]
     },
     "execution_count": 15,
     "metadata": {},
     "output_type": "execute_result"
    }
   ],
   "source": [
    "np.shape(speed_pivot_np.reshape(30*TIME_UNIT, ceil(NROWS/2), ceil(NCOLS/2)))"
   ]
  },
  {
   "cell_type": "code",
   "execution_count": 16,
   "metadata": {},
   "outputs": [
    {
     "data": {
      "text/plain": [
       "(43776, 3, 10, 10)"
      ]
     },
     "execution_count": 16,
     "metadata": {},
     "output_type": "execute_result"
    }
   ],
   "source": [
    "np.shape(movie[:,:3])"
   ]
  },
  {
   "cell_type": "code",
   "execution_count": 17,
   "metadata": {},
   "outputs": [],
   "source": [
    "np.save('data_x.npy', movie[:, :6])  #TODO:过去三小时的数据\n",
    "np.save('data_y.npy', movie[:, 6])  #TODO:一、二、三天前的数据"
   ]
  },
  {
   "cell_type": "code",
   "execution_count": 50,
   "metadata": {},
   "outputs": [
    {
     "data": {
      "text/plain": [
       "\"\\ndef conv_layer(inputs,  \\n             num_filters=16,  \\n             kernel_size=3,  \\n             strides=1,  \\n             data_format='channels_first',  \\n             activation='relu',  \\n             batch_normalization=True,  \\n             maxpooling=True,  \\n             pool_size=2,  \\n             pool_strides=2):  \\n    conv = Conv2D(num_filters,  \\n                 kernel_size=kernel_size,  \\n                 strides=strides,  \\n                 padding='same',  \\n                 data_format=data_format,  \\n                 kernel_regularizer=l2(1e-4))  \\n    x = conv(inputs)  # 卷积\\n    if batch_normalization:\\n        x = BatchNormalization()(x) # 批归一化\\n    if activation is not None:\\n        x = Activation(activation)(x) # 激活函数\\n    if maxpooling:\\n        x = MaxPooling2D(pool_size=pool_size,  \\n                        strides=pool_strides,  \\n                        data_format=data_format,  \\n                        padding='same')(x) # 池化\\n    return x\\n\""
      ]
     },
     "execution_count": 50,
     "metadata": {},
     "output_type": "execute_result"
    }
   ],
   "source": [
    "import tensorflow as tf  \n",
    "from tensorflow import keras  \n",
    "from tensorflow.keras.layers import Conv2D, BatchNormalization  \n",
    "from tensorflow.keras.layers import Activation, MaxPooling2D  \n",
    "from tensorflow.keras.regularizers import l2\n",
    "# 卷积层\n",
    "\"\"\"\n",
    "def conv_layer(inputs,  \n",
    "             num_filters=16,  \n",
    "             kernel_size=3,  \n",
    "             strides=1,  \n",
    "             data_format='channels_first',  \n",
    "             activation='relu',  \n",
    "             batch_normalization=True,  \n",
    "             maxpooling=True,  \n",
    "             pool_size=2,  \n",
    "             pool_strides=2):  \n",
    "    conv = Conv2D(num_filters,  \n",
    "                 kernel_size=kernel_size,  \n",
    "                 strides=strides,  \n",
    "                 padding='same',  \n",
    "                 data_format=data_format,  \n",
    "                 kernel_regularizer=l2(1e-4))  \n",
    "    x = conv(inputs)  # 卷积\n",
    "    if batch_normalization:\n",
    "        x = BatchNormalization()(x) # 批归一化\n",
    "    if activation is not None:\n",
    "        x = Activation(activation)(x) # 激活函数\n",
    "    if maxpooling:\n",
    "        x = MaxPooling2D(pool_size=pool_size,  \n",
    "                        strides=pool_strides,  \n",
    "                        data_format=data_format,  \n",
    "                        padding='same')(x) # 池化\n",
    "    return x\n",
    "\"\"\"\n",
    "def conv_layer(inputs,  \n",
    "             num_filters=16,  \n",
    "             kernel_size=3,  \n",
    "             strides=1,  \n",
    "             data_format='channels_last',  \n",
    "             activation='relu',  \n",
    "             batch_normalization=True,  \n",
    "             maxpooling=True,  \n",
    "             pool_size=2,  \n",
    "             pool_strides=2):  \n",
    "    conv = Conv2D(num_filters,  \n",
    "                 kernel_size=kernel_size,  \n",
    "                 strides=strides,  \n",
    "                 padding='same',  \n",
    "                 data_format=data_format,  \n",
    "                 kernel_regularizer=l2(1e-4))  \n",
    "    x = conv(inputs)  # 卷积\n",
    "    if batch_normalization:\n",
    "        x = BatchNormalization()(x) # 批归一化\n",
    "    if activation is not None:\n",
    "        x = Activation(activation)(x) # 激活函数\n",
    "    if maxpooling:\n",
    "        x = MaxPooling2D(pool_size=pool_size,  \n",
    "                        strides=pool_strides,  \n",
    "                        data_format=data_format,  \n",
    "                        padding='same')(x) # 池化\n",
    "    return x"
   ]
  },
  {
   "cell_type": "code",
   "execution_count": 51,
   "metadata": {},
   "outputs": [
    {
     "name": "stdout",
     "output_type": "stream",
     "text": [
      "Num GPUs Available:  0\n"
     ]
    }
   ],
   "source": [
    "#print(\"Num GPUs Available: \", len(tf.config.experimental.list_physical_devices('GPU')))\n",
    "print(\"Num GPUs Available: \", len(tf.test.gpu_device_name()))"
   ]
  },
  {
   "cell_type": "code",
   "execution_count": 52,
   "metadata": {},
   "outputs": [
    {
     "data": {
      "text/plain": [
       "\"\\nfrom tensorflow.keras.layers import UpSampling2D  \\ndef upsample_layer(inputs,  \\n                up_size=2,  \\n                interpolation='nearest',  \\n                data_format='channels_first'):\\n    upsample = UpSampling2D(size=up_size,\\n                    data_format=data_format,\\n                    interpolation=interpolation)  \\n    x = upsample(inputs) # 上采样\\n    return x\\n\""
      ]
     },
     "execution_count": 52,
     "metadata": {},
     "output_type": "execute_result"
    }
   ],
   "source": [
    "\"\"\"\n",
    "from tensorflow.keras.layers import UpSampling2D  \n",
    "def upsample_layer(inputs,  \n",
    "                up_size=2,  \n",
    "                interpolation='nearest',  \n",
    "                data_format='channels_first'):\n",
    "    upsample = UpSampling2D(size=up_size,\n",
    "                    data_format=data_format,\n",
    "                    interpolation=interpolation)  \n",
    "    x = upsample(inputs) # 上采样\n",
    "    return x\n",
    "\"\"\"\"\n",
    "\n",
    "def upsample_layer(inputs,  \n",
    "                up_size=2,  \n",
    "                interpolation='nearest',\n",
    "                data_format='channels_last'):\n",
    "    upsample = UpSampling2D(size=up_size,\n",
    "                    data_format=data_format,\n",
    "                    interpolation=interpolation)  \n",
    "    x = upsample(inputs) # 上采样\n",
    "    return x"
   ]
  },
  {
   "cell_type": "code",
   "execution_count": 53,
   "metadata": {},
   "outputs": [],
   "source": [
    "from tensorflow.keras.layers import Input, Flatten, Dense  \n",
    "from tensorflow.keras.models import Model  \n",
    "def cnn_model(input_shape):  \n",
    "    inputs = Input(shape=input_shape)  \n",
    "    x = conv_layer(inputs, 16, pool_strides=1)  \n",
    "    x = conv_layer(x, 32, pool_strides=1)  \n",
    "    x = conv_layer(x, 32, pool_strides=1)  \n",
    "    x = conv_layer(x, 16)  \n",
    "    x = upsample_layer(x, 2)  \n",
    "    x = conv_layer(x, 1, maxpooling=False)  \n",
    "    # y = Flatten(data_format='channels_first')(x)\n",
    "    y = Flatten(data_format='channels_last')(x)\n",
    "    y = Dense(128, activation='relu')(y)  \n",
    "    y = Dense(128, activation='relu')(y)  \n",
    "    outputs = Dense(100, activation='relu')(y)  \n",
    "    # 建立模型  \n",
    "    model = Model(inputs=inputs, outputs=outputs)  \n",
    "    return model"
   ]
  },
  {
   "cell_type": "code",
   "execution_count": 54,
   "metadata": {},
   "outputs": [],
   "source": [
    "import numpy as np\n",
    "import tensorflow as tf\n",
    "from sklearn.metrics import mean_absolute_error, mean_squared_error      \n",
    "from tensorflow.keras.callbacks import EarlyStopping    \n",
    "SEED = 233  # 随机种子    \n",
    "np.random.seed(SEED)    \n",
    "# tf.random.set_random_seed(SEED)\n",
    "tf.random.set_seed(SEED)"
   ]
  },
  {
   "cell_type": "code",
   "execution_count": 56,
   "metadata": {},
   "outputs": [],
   "source": [
    "data_x = np.load('data_x.npy')    \n",
    "data_y = np.load('data_y.npy')    \n",
    "data_x = data_x.astype('float32')    \n",
    "data_y = data_y.astype('float32')"
   ]
  },
  {
   "cell_type": "code",
   "execution_count": 57,
   "metadata": {},
   "outputs": [
    {
     "data": {
      "text/plain": [
       "((43776, 6, 10, 10), (43776, 10, 10))"
      ]
     },
     "execution_count": 57,
     "metadata": {},
     "output_type": "execute_result"
    }
   ],
   "source": [
    "(np.shape(data_x),np.shape(data_y))"
   ]
  },
  {
   "cell_type": "code",
   "execution_count": 58,
   "metadata": {},
   "outputs": [
    {
     "name": "stdout",
     "output_type": "stream",
     "text": [
      "Epoch 1/50\n",
      "1054/1054 [==============================] - 13s 12ms/step - loss: 0.0487 - mae: 0.1412 - mse: 0.0416 - val_loss: 0.0326 - val_mae: 0.1066 - val_mse: 0.0272\n",
      "Epoch 2/50\n",
      "1054/1054 [==============================] - 13s 12ms/step - loss: 0.0298 - mae: 0.0981 - mse: 0.0256 - val_loss: 0.0280 - val_mae: 0.0977 - val_mse: 0.0249\n",
      "Epoch 3/50\n",
      "1054/1054 [==============================] - 13s 12ms/step - loss: 0.0266 - mae: 0.0923 - mse: 0.0241 - val_loss: 0.0248 - val_mae: 0.0927 - val_mse: 0.0228\n",
      "Epoch 4/50\n",
      "1054/1054 [==============================] - 13s 12ms/step - loss: 0.0241 - mae: 0.0883 - mse: 0.0225 - val_loss: 0.0233 - val_mae: 0.0878 - val_mse: 0.0220\n",
      "Epoch 5/50\n",
      "1054/1054 [==============================] - 13s 12ms/step - loss: 0.0234 - mae: 0.0869 - mse: 0.0222 - val_loss: 0.0231 - val_mae: 0.0889 - val_mse: 0.0220\n",
      "Epoch 6/50\n",
      "1054/1054 [==============================] - 13s 12ms/step - loss: 0.0229 - mae: 0.0860 - mse: 0.0219 - val_loss: 0.0226 - val_mae: 0.0861 - val_mse: 0.0217\n",
      "Epoch 7/50\n",
      "1054/1054 [==============================] - 13s 12ms/step - loss: 0.0226 - mae: 0.0852 - mse: 0.0218 - val_loss: 0.0224 - val_mae: 0.0865 - val_mse: 0.0217\n",
      "Epoch 8/50\n",
      "1054/1054 [==============================] - 13s 12ms/step - loss: 0.0224 - mae: 0.0847 - mse: 0.0216 - val_loss: 0.0225 - val_mae: 0.0873 - val_mse: 0.0218\n",
      "Epoch 9/50\n",
      "1054/1054 [==============================] - 13s 12ms/step - loss: 0.0222 - mae: 0.0842 - mse: 0.0215 - val_loss: 0.0221 - val_mae: 0.0842 - val_mse: 0.0215\n",
      "Epoch 10/50\n",
      "1054/1054 [==============================] - 13s 12ms/step - loss: 0.0212 - mae: 0.0826 - mse: 0.0206 - val_loss: 0.0208 - val_mae: 0.0826 - val_mse: 0.0202\n",
      "Epoch 11/50\n",
      "1054/1054 [==============================] - 13s 12ms/step - loss: 0.0205 - mae: 0.0811 - mse: 0.0199 - val_loss: 0.0204 - val_mae: 0.0820 - val_mse: 0.0198\n",
      "Epoch 12/50\n",
      "1054/1054 [==============================] - 13s 12ms/step - loss: 0.0204 - mae: 0.0808 - mse: 0.0198 - val_loss: 0.0207 - val_mae: 0.0857 - val_mse: 0.0202\n",
      "Epoch 13/50\n",
      "1054/1054 [==============================] - 13s 12ms/step - loss: 0.0203 - mae: 0.0805 - mse: 0.0197 - val_loss: 0.0200 - val_mae: 0.0807 - val_mse: 0.0195\n",
      "Epoch 14/50\n",
      "1054/1054 [==============================] - 13s 12ms/step - loss: 0.0202 - mae: 0.0802 - mse: 0.0197 - val_loss: 0.0203 - val_mae: 0.0832 - val_mse: 0.0197\n",
      "Epoch 15/50\n",
      "1054/1054 [==============================] - 13s 12ms/step - loss: 0.0201 - mae: 0.0800 - mse: 0.0196 - val_loss: 0.0201 - val_mae: 0.0810 - val_mse: 0.0196\n",
      "Epoch 16/50\n",
      "1054/1054 [==============================] - 13s 12ms/step - loss: 0.0201 - mae: 0.0799 - mse: 0.0196 - val_loss: 0.0201 - val_mae: 0.0807 - val_mse: 0.0196\n",
      "Epoch 17/50\n",
      "1054/1054 [==============================] - 13s 12ms/step - loss: 0.0201 - mae: 0.0797 - mse: 0.0195 - val_loss: 0.0201 - val_mae: 0.0816 - val_mse: 0.0196\n",
      "Epoch 18/50\n",
      "1054/1054 [==============================] - 13s 12ms/step - loss: 0.0200 - mae: 0.0794 - mse: 0.0195 - val_loss: 0.0200 - val_mae: 0.0817 - val_mse: 0.0195\n",
      "Epoch 19/50\n",
      "1054/1054 [==============================] - 13s 13ms/step - loss: 0.0199 - mae: 0.0793 - mse: 0.0194 - val_loss: 0.0201 - val_mae: 0.0823 - val_mse: 0.0196\n",
      "Epoch 20/50\n",
      "1054/1054 [==============================] - 13s 12ms/step - loss: 0.0199 - mae: 0.0793 - mse: 0.0194 - val_loss: 0.0201 - val_mae: 0.0812 - val_mse: 0.0196\n",
      "Epoch 21/50\n",
      "1054/1054 [==============================] - 13s 12ms/step - loss: 0.0191 - mae: 0.0780 - mse: 0.0186 - val_loss: 0.0189 - val_mae: 0.0805 - val_mse: 0.0184\n",
      "Epoch 22/50\n",
      "1054/1054 [==============================] - 13s 12ms/step - loss: 0.0186 - mae: 0.0771 - mse: 0.0181 - val_loss: 0.0190 - val_mae: 0.0783 - val_mse: 0.0185\n",
      "Epoch 23/50\n",
      "1054/1054 [==============================] - 13s 12ms/step - loss: 0.0186 - mae: 0.0770 - mse: 0.0181 - val_loss: 0.0191 - val_mae: 0.0787 - val_mse: 0.0186\n",
      "Epoch 24/50\n",
      "1054/1054 [==============================] - 13s 12ms/step - loss: 0.0185 - mae: 0.0768 - mse: 0.0180 - val_loss: 0.0190 - val_mae: 0.0785 - val_mse: 0.0185\n",
      "Epoch 25/50\n",
      "1054/1054 [==============================] - 13s 12ms/step - loss: 0.0185 - mae: 0.0767 - mse: 0.0180 - val_loss: 0.0187 - val_mae: 0.0782 - val_mse: 0.0182\n",
      "Epoch 26/50\n",
      "1054/1054 [==============================] - 13s 12ms/step - loss: 0.0185 - mae: 0.0766 - mse: 0.0180 - val_loss: 0.0190 - val_mae: 0.0779 - val_mse: 0.0185\n",
      "Epoch 27/50\n",
      "1054/1054 [==============================] - 13s 12ms/step - loss: 0.0185 - mae: 0.0766 - mse: 0.0180 - val_loss: 0.0186 - val_mae: 0.0782 - val_mse: 0.0181\n",
      "Epoch 28/50\n",
      "1054/1054 [==============================] - 13s 13ms/step - loss: 0.0184 - mae: 0.0763 - mse: 0.0179 - val_loss: 0.0188 - val_mae: 0.0781 - val_mse: 0.0183\n",
      "Epoch 29/50\n",
      "1054/1054 [==============================] - 13s 12ms/step - loss: 0.0184 - mae: 0.0763 - mse: 0.0179 - val_loss: 0.0185 - val_mae: 0.0778 - val_mse: 0.0181\n",
      "Epoch 30/50\n",
      "1054/1054 [==============================] - 13s 12ms/step - loss: 0.0183 - mae: 0.0762 - mse: 0.0178 - val_loss: 0.0186 - val_mae: 0.0776 - val_mse: 0.0181\n",
      "Epoch 31/50\n",
      "1054/1054 [==============================] - 13s 12ms/step - loss: 0.0183 - mae: 0.0761 - mse: 0.0178 - val_loss: 0.0190 - val_mae: 0.0774 - val_mse: 0.0185\n",
      "Epoch 32/50\n",
      "1054/1054 [==============================] - 13s 12ms/step - loss: 0.0183 - mae: 0.0760 - mse: 0.0178 - val_loss: 0.0187 - val_mae: 0.0774 - val_mse: 0.0182\n",
      "Epoch 33/50\n",
      "1054/1054 [==============================] - 13s 12ms/step - loss: 0.0183 - mae: 0.0759 - mse: 0.0178 - val_loss: 0.0190 - val_mae: 0.0774 - val_mse: 0.0185\n",
      "Epoch 34/50\n",
      "1054/1054 [==============================] - 13s 12ms/step - loss: 0.0182 - mae: 0.0758 - mse: 0.0177 - val_loss: 0.0186 - val_mae: 0.0782 - val_mse: 0.0181\n",
      "Epoch 35/50\n",
      "1054/1054 [==============================] - 13s 13ms/step - loss: 0.0182 - mae: 0.0757 - mse: 0.0177 - val_loss: 0.0188 - val_mae: 0.0771 - val_mse: 0.0183\n",
      "Epoch 36/50\n",
      "1054/1054 [==============================] - 15s 14ms/step - loss: 0.0178 - mae: 0.0752 - mse: 0.0173 - val_loss: 0.0174 - val_mae: 0.0749 - val_mse: 0.0169\n",
      "Epoch 37/50\n",
      "1054/1054 [==============================] - 17s 16ms/step - loss: 0.0167 - mae: 0.0734 - mse: 0.0162 - val_loss: 0.0172 - val_mae: 0.0753 - val_mse: 0.0167\n",
      "Epoch 38/50\n",
      "1054/1054 [==============================] - 14s 13ms/step - loss: 0.0166 - mae: 0.0732 - mse: 0.0161 - val_loss: 0.0175 - val_mae: 0.0758 - val_mse: 0.0170\n",
      "Epoch 39/50\n",
      "1054/1054 [==============================] - 13s 12ms/step - loss: 0.0166 - mae: 0.0730 - mse: 0.0161 - val_loss: 0.0170 - val_mae: 0.0758 - val_mse: 0.0165\n",
      "Epoch 40/50\n",
      "1054/1054 [==============================] - 13s 12ms/step - loss: 0.0166 - mae: 0.0730 - mse: 0.0160 - val_loss: 0.0172 - val_mae: 0.0739 - val_mse: 0.0167\n",
      "Epoch 41/50\n",
      "1054/1054 [==============================] - 13s 12ms/step - loss: 0.0165 - mae: 0.0729 - mse: 0.0160 - val_loss: 0.0171 - val_mae: 0.0755 - val_mse: 0.0165\n",
      "Epoch 42/50\n",
      "1054/1054 [==============================] - 13s 12ms/step - loss: 0.0165 - mae: 0.0728 - mse: 0.0160 - val_loss: 0.0174 - val_mae: 0.0769 - val_mse: 0.0169\n",
      "Epoch 43/50\n",
      "1054/1054 [==============================] - 13s 12ms/step - loss: 0.0165 - mae: 0.0728 - mse: 0.0160 - val_loss: 0.0172 - val_mae: 0.0742 - val_mse: 0.0167\n",
      "Epoch 44/50\n",
      "1054/1054 [==============================] - 13s 12ms/step - loss: 0.0165 - mae: 0.0727 - mse: 0.0160 - val_loss: 0.0172 - val_mae: 0.0762 - val_mse: 0.0167\n",
      "Epoch 45/50\n",
      "1054/1054 [==============================] - 13s 12ms/step - loss: 0.0164 - mae: 0.0726 - mse: 0.0159 - val_loss: 0.0172 - val_mae: 0.0763 - val_mse: 0.0167\n",
      "Epoch 46/50\n",
      "1054/1054 [==============================] - 13s 12ms/step - loss: 0.0164 - mae: 0.0725 - mse: 0.0159 - val_loss: 0.0173 - val_mae: 0.0753 - val_mse: 0.0168\n",
      "Epoch 47/50\n",
      "1054/1054 [==============================] - 13s 12ms/step - loss: 0.0164 - mae: 0.0725 - mse: 0.0159 - val_loss: 0.0173 - val_mae: 0.0759 - val_mse: 0.0168\n",
      "Epoch 48/50\n",
      "1054/1054 [==============================] - 13s 12ms/step - loss: 0.0164 - mae: 0.0725 - mse: 0.0159 - val_loss: 0.0171 - val_mae: 0.0746 - val_mse: 0.0166\n",
      "Epoch 49/50\n"
     ]
    },
    {
     "name": "stdout",
     "output_type": "stream",
     "text": [
      "1054/1054 [==============================] - 13s 12ms/step - loss: 0.0164 - mae: 0.0724 - mse: 0.0159 - val_loss: 0.0172 - val_mae: 0.0753 - val_mse: 0.0167\n"
     ]
    },
    {
     "data": {
      "text/plain": [
       "<keras.callbacks.History at 0x20a4801fac8>"
      ]
     },
     "execution_count": 58,
     "metadata": {},
     "output_type": "execute_result"
    }
   ],
   "source": [
    "N_SAMPLE_PER_HOUR = (ceil(NROWS/2) - win_s + 1) * (ceil(NCOLS/2) - win_s + 1) # 计算数据增强（裁剪）之后，一个hourid内的数据数量\n",
    "N_SAMPLES_LAST_DAY = TIME_UNIT * N_SAMPLE_PER_HOUR #计算最后一天的样本（数据）量\n",
    "\n",
    "Max = max(data_x.max(), data_y.max())\n",
    "\n",
    "data_x /= Max # 归一化  \n",
    "data_y /= Max # 归一化  #TODO:此处归一化的方法存疑\n",
    "train_x, train_y = data_x[:-N_SAMPLES_LAST_DAY], data_y[:-N_SAMPLES_LAST_DAY] # 训练集     \n",
    "test_x, test_y = data_x[-N_SAMPLES_LAST_DAY:], data_y[-N_SAMPLES_LAST_DAY:] # 测试集\n",
    "model = cnn_model(train_x.shape[1:])      \n",
    "opt = keras.optimizers.Adam(learning_rate=4e-4)      \n",
    "model.compile(loss='mse',      \n",
    "              optimizer=opt,      \n",
    "              metrics=['mae', 'mse']) \n",
    "\n",
    "batch_size = 32 # 训练批次大小    \n",
    "epochs = 50  # 训练轮数    \n",
    "earlystop = tf.keras.callbacks.EarlyStopping(monitor='val_loss', patience=10) # 早停策略    \n",
    "# model.fit(train_x, train_y.reshape(-1, 100),      \n",
    "#         batch_size=batch_size,      \n",
    "#         epochs=epochs,       \n",
    "#         validation_split=0.2,      \n",
    "#         callbacks=[earlystop],      \n",
    "#         shuffle=True) # 模型训练\n",
    "model.fit(train_x, train_y.reshape(-1, 100),      \n",
    "          batch_size=batch_size,      \n",
    "          epochs=epochs,       \n",
    "          validation_split=0.2,      \n",
    "          callbacks=[earlystop],      \n",
    "          shuffle=True) # 模型训练"
   ]
  },
  {
   "cell_type": "code",
   "execution_count": 59,
   "metadata": {},
   "outputs": [
    {
     "name": "stdout",
     "output_type": "stream",
     "text": [
      "1.6370162 8.113474 2.848416\n"
     ]
    }
   ],
   "source": [
    "# 计算误差\n",
    "predictions_test = model.predict(test_x, batch_size=512)    \n",
    "mae_test = mean_absolute_error(predictions_test * Max, test_y.reshape(-1, 100) * Max)    \n",
    "mse_test = mean_squared_error(predictions_test * Max, test_y.reshape(-1, 100) * Max)    \n",
    "print(mae_test, mse_test, np.sqrt(mse_test)) # 测试集误差 "
   ]
  },
  {
   "cell_type": "code",
   "execution_count": 60,
   "metadata": {},
   "outputs": [
    {
     "data": {
      "text/plain": [
       "(1620, 100)"
      ]
     },
     "execution_count": 60,
     "metadata": {},
     "output_type": "execute_result"
    }
   ],
   "source": [
    "np.shape(predictions_test)"
   ]
  },
  {
   "cell_type": "code",
   "execution_count": 61,
   "metadata": {},
   "outputs": [
    {
     "data": {
      "text/plain": [
       "<AxesSubplot:>"
      ]
     },
     "execution_count": 61,
     "metadata": {},
     "output_type": "execute_result"
    },
    {
     "data": {
      "text/plain": [
       "Text(0.5, 1.0, 'prediction')"
      ]
     },
     "execution_count": 61,
     "metadata": {},
     "output_type": "execute_result"
    },
    {
     "data": {
      "text/plain": [
       "<AxesSubplot:>"
      ]
     },
     "execution_count": 61,
     "metadata": {},
     "output_type": "execute_result"
    },
    {
     "data": {
      "text/plain": [
       "Text(0.5, 1.0, 'real')"
      ]
     },
     "execution_count": 61,
     "metadata": {},
     "output_type": "execute_result"
    },
    {
     "data": {
      "text/plain": [
       "<AxesSubplot:>"
      ]
     },
     "execution_count": 61,
     "metadata": {},
     "output_type": "execute_result"
    },
    {
     "data": {
      "text/plain": [
       "Text(0.5, 1.0, 'prediction')"
      ]
     },
     "execution_count": 61,
     "metadata": {},
     "output_type": "execute_result"
    },
    {
     "data": {
      "text/plain": [
       "<AxesSubplot:>"
      ]
     },
     "execution_count": 61,
     "metadata": {},
     "output_type": "execute_result"
    },
    {
     "data": {
      "text/plain": [
       "Text(0.5, 1.0, 'real')"
      ]
     },
     "execution_count": 61,
     "metadata": {},
     "output_type": "execute_result"
    },
    {
     "data": {
      "image/png": "[encoded data removed]",
      "text/plain": [
       "<Figure size 2400x2000 with 8 Axes>"
      ]
     },
     "metadata": {
      "needs_background": "light"
     },
     "output_type": "display_data"
    }
   ],
   "source": [
    "# 预测结果可视化\n",
    "import matplotlib.pyplot as plt\n",
    "import seaborn as sns\n",
    "\n",
    "fig, ax = plt.subplots(2, 2, figsize=(12, 10), dpi=200)\n",
    "for idx, (axi, volframe) in enumerate(zip(ax.ravel(), [\n",
    "    predictions_test[35].reshape(10,-1),\n",
    "    test_y[35],\n",
    "    predictions_test[36].reshape(10,-1),\n",
    "    test_y[36],\n",
    "])):\n",
    "    sns.heatmap(volframe * Max, vmin=0, cmap='Blues', ax=axi)\n",
    "    if idx % 2 == 0:\n",
    "        axi.set_title('prediction')\n",
    "    else:\n",
    "        axi.set_title('real')\n",
    "plt.tight_layout()\n",
    "plt.show()\n"
   ]
  },
  {
   "cell_type": "code",
   "execution_count": 62,
   "metadata": {},
   "outputs": [],
   "source": [
    "# 从铺平后的index到原本时空id的映射\n",
    "def hourId(index:int,) -> int: \n",
    "    return (index+1)//N_SAMPLE_PER_HOUR\n",
    "\n",
    "def rowId(index: int) -> int:\n",
    "    return ((index+1)%N_SAMPLE_PER_HOUR)//ceil(NROWS/2)\n",
    "\n",
    "def colId(index: int) ->int:\n",
    "    return ((index+1)&N_SAMPLE_PER_HOUR)%ceil(NROWS/2)\n",
    "\n",
    "\n",
    "\n",
    "# 定义从二维tuple到一维array索引的映射（限定二维平面的shape是(10,10)）\n",
    "def flattenIndex(row,col):\n",
    "    #计算卷积核的偏置\n",
    "    row_offset = (row+1)%10 if (row > 9) else 0\n",
    "    col_offset = (col+1)%10 if (col > 9) else 0\n",
    "    #计算偏置还原后，该网格在(10,10)网格中的相对位置\n",
    "    relativeRowId = row - row_offset\n",
    "    relativeColId = col - col_offset\n",
    "    #计算flattenIndex\n",
    "    return 10*relativeRowId + relativeColId"
   ]
  },
  {
   "cell_type": "code",
   "execution_count": 63,
   "metadata": {},
   "outputs": [
    {
     "data": {
      "text/plain": [
       "99"
      ]
     },
     "execution_count": 63,
     "metadata": {},
     "output_type": "execute_result"
    }
   ],
   "source": [
    "flattenIndex(10,10)"
   ]
  },
  {
   "cell_type": "code",
   "execution_count": 64,
   "metadata": {},
   "outputs": [],
   "source": [
    "def pickOneGrid(prediction, row_index, col_index, type:int):\n",
    "    if((col_index > ceil(NCOLS/2) - 1) or (col_index < 0) or (row_index > ceil(NROWS/2) - 1) or (row_index < 0)):\n",
    "        raise ValueError('The index is outside the boundary.')\n",
    "    else:\n",
    "        # 计算在prediction中对应的所有index\n",
    "        index = []\n",
    "        general_offset = 6*((row_index+1)%10 if (row_index > 9) else 0) + ((col_index+1)%10 if (col_index > 9) else 0)\n",
    "        # 计算相对坐标\n",
    "        row_offset = (row_index+1)%10 if (row_index > 9) else 0\n",
    "        col_offset = (col_index+1)%10 if (col_index > 9) else 0\n",
    "        #计算偏置还原后，该网格在(10,10)网格中的相对位置\n",
    "        relativeRowId = row_index - row_offset\n",
    "        relativeColId = col_index - col_offset\n",
    "        print(f'general_offset is {general_offset}, relative coordinate is ({relativeRowId},{relativeColId})')\n",
    "        if(type == 0):\n",
    "            for i in range(np.shape(prediction)[0]):\n",
    "                if(i%36 == general_offset):\n",
    "                    index.append(prediction[i][flattenIndex(row_index, col_index)])\n",
    "        else:\n",
    "            for i in range(np.shape(prediction)[0]):\n",
    "                if(i%36 == general_offset):\n",
    "                    index.append(prediction[i][relativeRowId][relativeColId])\n",
    "        return index\n",
    "\n",
    "\n",
    "                \n",
    "\n",
    "    \n",
    "    "
   ]
  },
  {
   "cell_type": "code",
   "execution_count": 65,
   "metadata": {},
   "outputs": [
    {
     "name": "stdout",
     "output_type": "stream",
     "text": [
      "general_offset is 14, relative coordinate is (9,9)\n",
      "general_offset is 14, relative coordinate is (9,9)\n"
     ]
    },
    {
     "data": {
      "text/plain": [
       "<matplotlib.collections.PathCollection at 0x20a4932a6d8>"
      ]
     },
     "execution_count": 65,
     "metadata": {},
     "output_type": "execute_result"
    },
    {
     "data": {
      "text/plain": [
       "[<matplotlib.lines.Line2D at 0x20a4932a6a0>]"
      ]
     },
     "execution_count": 65,
     "metadata": {},
     "output_type": "execute_result"
    },
    {
     "data": {
      "image/png": "[encoded data removed]",
      "text/plain": [
       "<Figure size 1440x720 with 1 Axes>"
      ]
     },
     "metadata": {
      "needs_background": "light"
     },
     "output_type": "display_data"
    }
   ],
   "source": [
    "# 选择网格 # (0,0) ~ (14,14)\n",
    "cord = (11,11)\n",
    "last_day_predict = np.array(pickOneGrid(predictions_test, cord[0], cord[1], type=0))*Max\n",
    "last_day_real    = np.array(pickOneGrid(test_y, cord[0], cord[1], type=1))*Max\n",
    "\n",
    "# 画图\n",
    "fig, ax = plt.subplots(figsize=(20,10))\n",
    "ax.scatter(range(45), last_day_predict, c='r', marker='o', label='prediction')\n",
    "ax.plot(range(45), last_day_real, c='b', marker='v', label='real')\n",
    "legend = ax.legend(fontsize='x-large')\n",
    "plt.show()"
   ]
  }
 ],
 "metadata": {
  "interpreter": {
   "hash": "7b4b4feff2f24a0f0a34464dbe537a36fda679851528fb8735cb41fa49dffb2d"
  },
  "kernelspec": {
   "display_name": "Python [conda env:prpPy36]",
   "language": "python",
   "name": "conda-env-prpPy36-py"
  },
  "language_info": {
   "codemirror_mode": {
    "name": "ipython",
    "version": 3
   },
   "file_extension": ".py",
   "mimetype": "text/x-python",
   "name": "python",
   "nbconvert_exporter": "python",
   "pygments_lexer": "ipython3",
   "version": "3.6.13"
  }
 },
 "nbformat": 4,
 "nbformat_minor": 2
}
